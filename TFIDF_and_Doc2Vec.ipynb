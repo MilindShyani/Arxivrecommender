{
 "cells": [
  {
   "cell_type": "code",
   "execution_count": 1,
   "metadata": {},
   "outputs": [],
   "source": [
    "import numpy as np\n",
    "import pandas as pd\n",
    "import seaborn as sns\n",
    "import matplotlib as plt\n",
    "import tensorflow as tf\n",
    "import json, gensim, sklearn, pickle, sys, re, os\n",
    "import IPython.display as ipd"
   ]
  },
  {
   "cell_type": "code",
   "execution_count": 2,
   "metadata": {},
   "outputs": [],
   "source": [
    "from gensim.parsing.preprocessing import preprocess_documents\n",
    "from gensim.parsing.preprocessing import preprocess_string\n",
    "from gensim.models.phrases import Phrases\n",
    "from gensim.parsing.preprocessing import strip_tags, strip_short, strip_multiple_whitespaces, stem_text\n",
    "from gensim.parsing.preprocessing import remove_stopwords\n",
    "from gensim.test.utils import common_corpus, common_dictionary, get_tmpfile\n",
    "from gensim import utils\n",
    "from scholarly import scholarly\n",
    "from gensim.models.doc2vec import Doc2Vec, TaggedDocument\n",
    "from IPython.display import Audio\n",
    "sound_file = './Music/invalid_keypress.mp3'"
   ]
  },
  {
   "cell_type": "code",
   "execution_count": 3,
   "metadata": {},
   "outputs": [],
   "source": [
    "datapd=pd.read_json(\"arxiv-metadata-oai-snapshot.json\",  lines=True)"
   ]
  },
  {
   "cell_type": "code",
   "execution_count": 4,
   "metadata": {},
   "outputs": [],
   "source": [
    "wave = np.sin(2*np.pi*200*np.arange(5000*2)/10000) \n",
    "play=Audio(wave, rate=50000, autoplay=True)"
   ]
  },
  {
   "cell_type": "markdown",
   "metadata": {},
   "source": [
    "## Model 1 -- TF-IDF ## \n",
    "### We will first focus on just one subfield -- hep-th ###"
   ]
  },
  {
   "cell_type": "code",
   "execution_count": 5,
   "metadata": {},
   "outputs": [],
   "source": [
    "datapd_hep_th = datapd.loc[datapd['categories'].str.contains('hep-th')]\n",
    "hep_abstracts = datapd_hep_th[ list(datapd_hep_th.iloc[:,0:1]) + ['abstract'] + ['title']]"
   ]
  },
  {
   "cell_type": "code",
   "execution_count": 6,
   "metadata": {},
   "outputs": [
    {
     "data": {
      "text/html": [
       "<div>\n",
       "<style scoped>\n",
       "    .dataframe tbody tr th:only-of-type {\n",
       "        vertical-align: middle;\n",
       "    }\n",
       "\n",
       "    .dataframe tbody tr th {\n",
       "        vertical-align: top;\n",
       "    }\n",
       "\n",
       "    .dataframe thead th {\n",
       "        text-align: right;\n",
       "    }\n",
       "</style>\n",
       "<table border=\"1\" class=\"dataframe\">\n",
       "  <thead>\n",
       "    <tr style=\"text-align: right;\">\n",
       "      <th></th>\n",
       "      <th>id</th>\n",
       "      <th>submitter</th>\n",
       "      <th>authors</th>\n",
       "      <th>title</th>\n",
       "      <th>comments</th>\n",
       "      <th>journal-ref</th>\n",
       "      <th>doi</th>\n",
       "      <th>report-no</th>\n",
       "      <th>categories</th>\n",
       "      <th>license</th>\n",
       "      <th>abstract</th>\n",
       "      <th>versions</th>\n",
       "      <th>update_date</th>\n",
       "      <th>authors_parsed</th>\n",
       "    </tr>\n",
       "  </thead>\n",
       "  <tbody>\n",
       "    <tr>\n",
       "      <th>0</th>\n",
       "      <td>0704.0001</td>\n",
       "      <td>Pavel Nadolsky</td>\n",
       "      <td>C. Bal\\'azs, E. L. Berger, P. M. Nadolsky, C.-...</td>\n",
       "      <td>Calculation of prompt diphoton production cros...</td>\n",
       "      <td>37 pages, 15 figures; published version</td>\n",
       "      <td>Phys.Rev.D76:013009,2007</td>\n",
       "      <td>10.1103/PhysRevD.76.013009</td>\n",
       "      <td>ANL-HEP-PR-07-12</td>\n",
       "      <td>hep-ph</td>\n",
       "      <td>None</td>\n",
       "      <td>A fully differential calculation in perturba...</td>\n",
       "      <td>[{'version': 'v1', 'created': 'Mon, 2 Apr 2007...</td>\n",
       "      <td>2008-11-26</td>\n",
       "      <td>[[Balázs, C., ], [Berger, E. L., ], [Nadolsky,...</td>\n",
       "    </tr>\n",
       "    <tr>\n",
       "      <th>1</th>\n",
       "      <td>0704.0002</td>\n",
       "      <td>Louis Theran</td>\n",
       "      <td>Ileana Streinu and Louis Theran</td>\n",
       "      <td>Sparsity-certifying Graph Decompositions</td>\n",
       "      <td>To appear in Graphs and Combinatorics</td>\n",
       "      <td>None</td>\n",
       "      <td>None</td>\n",
       "      <td>None</td>\n",
       "      <td>math.CO cs.CG</td>\n",
       "      <td>http://arxiv.org/licenses/nonexclusive-distrib...</td>\n",
       "      <td>We describe a new algorithm, the $(k,\\ell)$-...</td>\n",
       "      <td>[{'version': 'v1', 'created': 'Sat, 31 Mar 200...</td>\n",
       "      <td>2008-12-13</td>\n",
       "      <td>[[Streinu, Ileana, ], [Theran, Louis, ]]</td>\n",
       "    </tr>\n",
       "    <tr>\n",
       "      <th>2</th>\n",
       "      <td>0704.0003</td>\n",
       "      <td>Hongjun Pan</td>\n",
       "      <td>Hongjun Pan</td>\n",
       "      <td>The evolution of the Earth-Moon system based o...</td>\n",
       "      <td>23 pages, 3 figures</td>\n",
       "      <td>None</td>\n",
       "      <td>None</td>\n",
       "      <td>None</td>\n",
       "      <td>physics.gen-ph</td>\n",
       "      <td>None</td>\n",
       "      <td>The evolution of Earth-Moon system is descri...</td>\n",
       "      <td>[{'version': 'v1', 'created': 'Sun, 1 Apr 2007...</td>\n",
       "      <td>2008-01-13</td>\n",
       "      <td>[[Pan, Hongjun, ]]</td>\n",
       "    </tr>\n",
       "    <tr>\n",
       "      <th>3</th>\n",
       "      <td>0704.0004</td>\n",
       "      <td>David Callan</td>\n",
       "      <td>David Callan</td>\n",
       "      <td>A determinant of Stirling cycle numbers counts...</td>\n",
       "      <td>11 pages</td>\n",
       "      <td>None</td>\n",
       "      <td>None</td>\n",
       "      <td>None</td>\n",
       "      <td>math.CO</td>\n",
       "      <td>None</td>\n",
       "      <td>We show that a determinant of Stirling cycle...</td>\n",
       "      <td>[{'version': 'v1', 'created': 'Sat, 31 Mar 200...</td>\n",
       "      <td>2007-05-23</td>\n",
       "      <td>[[Callan, David, ]]</td>\n",
       "    </tr>\n",
       "    <tr>\n",
       "      <th>4</th>\n",
       "      <td>0704.0005</td>\n",
       "      <td>Alberto Torchinsky</td>\n",
       "      <td>Wael Abu-Shammala and Alberto Torchinsky</td>\n",
       "      <td>From dyadic $\\Lambda_{\\alpha}$ to $\\Lambda_{\\a...</td>\n",
       "      <td>None</td>\n",
       "      <td>Illinois J. Math. 52 (2008) no.2, 681-689</td>\n",
       "      <td>None</td>\n",
       "      <td>None</td>\n",
       "      <td>math.CA math.FA</td>\n",
       "      <td>None</td>\n",
       "      <td>In this paper we show how to compute the $\\L...</td>\n",
       "      <td>[{'version': 'v1', 'created': 'Mon, 2 Apr 2007...</td>\n",
       "      <td>2013-10-15</td>\n",
       "      <td>[[Abu-Shammala, Wael, ], [Torchinsky, Alberto, ]]</td>\n",
       "    </tr>\n",
       "  </tbody>\n",
       "</table>\n",
       "</div>"
      ],
      "text/plain": [
       "          id           submitter  \\\n",
       "0  0704.0001      Pavel Nadolsky   \n",
       "1  0704.0002        Louis Theran   \n",
       "2  0704.0003         Hongjun Pan   \n",
       "3  0704.0004        David Callan   \n",
       "4  0704.0005  Alberto Torchinsky   \n",
       "\n",
       "                                             authors  \\\n",
       "0  C. Bal\\'azs, E. L. Berger, P. M. Nadolsky, C.-...   \n",
       "1                    Ileana Streinu and Louis Theran   \n",
       "2                                        Hongjun Pan   \n",
       "3                                       David Callan   \n",
       "4           Wael Abu-Shammala and Alberto Torchinsky   \n",
       "\n",
       "                                               title  \\\n",
       "0  Calculation of prompt diphoton production cros...   \n",
       "1           Sparsity-certifying Graph Decompositions   \n",
       "2  The evolution of the Earth-Moon system based o...   \n",
       "3  A determinant of Stirling cycle numbers counts...   \n",
       "4  From dyadic $\\Lambda_{\\alpha}$ to $\\Lambda_{\\a...   \n",
       "\n",
       "                                  comments  \\\n",
       "0  37 pages, 15 figures; published version   \n",
       "1    To appear in Graphs and Combinatorics   \n",
       "2                      23 pages, 3 figures   \n",
       "3                                 11 pages   \n",
       "4                                     None   \n",
       "\n",
       "                                 journal-ref                         doi  \\\n",
       "0                   Phys.Rev.D76:013009,2007  10.1103/PhysRevD.76.013009   \n",
       "1                                       None                        None   \n",
       "2                                       None                        None   \n",
       "3                                       None                        None   \n",
       "4  Illinois J. Math. 52 (2008) no.2, 681-689                        None   \n",
       "\n",
       "          report-no       categories  \\\n",
       "0  ANL-HEP-PR-07-12           hep-ph   \n",
       "1              None    math.CO cs.CG   \n",
       "2              None   physics.gen-ph   \n",
       "3              None          math.CO   \n",
       "4              None  math.CA math.FA   \n",
       "\n",
       "                                             license  \\\n",
       "0                                               None   \n",
       "1  http://arxiv.org/licenses/nonexclusive-distrib...   \n",
       "2                                               None   \n",
       "3                                               None   \n",
       "4                                               None   \n",
       "\n",
       "                                            abstract  \\\n",
       "0    A fully differential calculation in perturba...   \n",
       "1    We describe a new algorithm, the $(k,\\ell)$-...   \n",
       "2    The evolution of Earth-Moon system is descri...   \n",
       "3    We show that a determinant of Stirling cycle...   \n",
       "4    In this paper we show how to compute the $\\L...   \n",
       "\n",
       "                                            versions update_date  \\\n",
       "0  [{'version': 'v1', 'created': 'Mon, 2 Apr 2007...  2008-11-26   \n",
       "1  [{'version': 'v1', 'created': 'Sat, 31 Mar 200...  2008-12-13   \n",
       "2  [{'version': 'v1', 'created': 'Sun, 1 Apr 2007...  2008-01-13   \n",
       "3  [{'version': 'v1', 'created': 'Sat, 31 Mar 200...  2007-05-23   \n",
       "4  [{'version': 'v1', 'created': 'Mon, 2 Apr 2007...  2013-10-15   \n",
       "\n",
       "                                      authors_parsed  \n",
       "0  [[Balázs, C., ], [Berger, E. L., ], [Nadolsky,...  \n",
       "1           [[Streinu, Ileana, ], [Theran, Louis, ]]  \n",
       "2                                 [[Pan, Hongjun, ]]  \n",
       "3                                [[Callan, David, ]]  \n",
       "4  [[Abu-Shammala, Wael, ], [Torchinsky, Alberto, ]]  "
      ]
     },
     "execution_count": 6,
     "metadata": {},
     "output_type": "execute_result"
    }
   ],
   "source": [
    "datapd[0:5]"
   ]
  },
  {
   "cell_type": "code",
   "execution_count": 7,
   "metadata": {},
   "outputs": [
    {
     "data": {
      "text/html": [
       "<div>\n",
       "<style scoped>\n",
       "    .dataframe tbody tr th:only-of-type {\n",
       "        vertical-align: middle;\n",
       "    }\n",
       "\n",
       "    .dataframe tbody tr th {\n",
       "        vertical-align: top;\n",
       "    }\n",
       "\n",
       "    .dataframe thead th {\n",
       "        text-align: right;\n",
       "    }\n",
       "</style>\n",
       "<table border=\"1\" class=\"dataframe\">\n",
       "  <thead>\n",
       "    <tr style=\"text-align: right;\">\n",
       "      <th></th>\n",
       "      <th>id</th>\n",
       "      <th>abstract</th>\n",
       "      <th>title</th>\n",
       "    </tr>\n",
       "  </thead>\n",
       "  <tbody>\n",
       "    <tr>\n",
       "      <th>14</th>\n",
       "      <td>0704.0015</td>\n",
       "      <td>The pure spinor formulation of the ten-dimen...</td>\n",
       "      <td>Fermionic superstring loop amplitudes in the p...</td>\n",
       "    </tr>\n",
       "    <tr>\n",
       "      <th>17</th>\n",
       "      <td>0704.0018</td>\n",
       "      <td>We give a prescription for how to compute th...</td>\n",
       "      <td>In quest of a generalized Callias index theorem</td>\n",
       "    </tr>\n",
       "    <tr>\n",
       "      <th>51</th>\n",
       "      <td>0704.0052</td>\n",
       "      <td>We study space-time symmetries in scalar qua...</td>\n",
       "      <td>Quantum Field Theory on Curved Backgrounds. II...</td>\n",
       "    </tr>\n",
       "    <tr>\n",
       "      <th>63</th>\n",
       "      <td>0704.0064</td>\n",
       "      <td>We capture the off-shell as well as the on-s...</td>\n",
       "      <td>Nilpotent symmetry invariance in the superfiel...</td>\n",
       "    </tr>\n",
       "    <tr>\n",
       "      <th>65</th>\n",
       "      <td>0704.0066</td>\n",
       "      <td>Possible (algebraic) commutation relations i...</td>\n",
       "      <td>Lagrangian quantum field theory in momentum pi...</td>\n",
       "    </tr>\n",
       "  </tbody>\n",
       "</table>\n",
       "</div>"
      ],
      "text/plain": [
       "           id                                           abstract  \\\n",
       "14  0704.0015    The pure spinor formulation of the ten-dimen...   \n",
       "17  0704.0018    We give a prescription for how to compute th...   \n",
       "51  0704.0052    We study space-time symmetries in scalar qua...   \n",
       "63  0704.0064    We capture the off-shell as well as the on-s...   \n",
       "65  0704.0066    Possible (algebraic) commutation relations i...   \n",
       "\n",
       "                                                title  \n",
       "14  Fermionic superstring loop amplitudes in the p...  \n",
       "17    In quest of a generalized Callias index theorem  \n",
       "51  Quantum Field Theory on Curved Backgrounds. II...  \n",
       "63  Nilpotent symmetry invariance in the superfiel...  \n",
       "65  Lagrangian quantum field theory in momentum pi...  "
      ]
     },
     "execution_count": 7,
     "metadata": {},
     "output_type": "execute_result"
    }
   ],
   "source": [
    "hep_abstracts[0:5]"
   ]
  },
  {
   "cell_type": "code",
   "execution_count": 9,
   "metadata": {},
   "outputs": [],
   "source": [
    "hep_corpus=hep_abstracts['abstract'].values\n",
    "#processed_hep=preprocess_documents(hep_corpus)\n",
    "processed_hep=[gensim.utils.simple_preprocess(gensim.parsing.preprocessing.remove_stopwords(doc),min_len=2) for doc in hep_corpus] "
   ]
  },
  {
   "cell_type": "code",
   "execution_count": 10,
   "metadata": {
    "scrolled": true
   },
   "outputs": [
    {
     "data": {
      "text/plain": [
       "[['the',\n",
       "  'pure',\n",
       "  'spinor',\n",
       "  'formulation',\n",
       "  'ten',\n",
       "  'dimensional',\n",
       "  'superstring',\n",
       "  'leads',\n",
       "  'manifestly',\n",
       "  'supersymmetric',\n",
       "  'loop',\n",
       "  'amplitudes',\n",
       "  'expressed',\n",
       "  'integrals',\n",
       "  'pure',\n",
       "  'spinor',\n",
       "  'superspace',\n",
       "  'this',\n",
       "  'paper',\n",
       "  'explores',\n",
       "  'different',\n",
       "  'methods',\n",
       "  'evaluate',\n",
       "  'integrals',\n",
       "  'uses',\n",
       "  'calculate',\n",
       "  'kinematic',\n",
       "  'factors',\n",
       "  'one',\n",
       "  'loop',\n",
       "  'two',\n",
       "  'loop',\n",
       "  'massless',\n",
       "  'four',\n",
       "  'point',\n",
       "  'amplitudes',\n",
       "  'involving',\n",
       "  'ramond',\n",
       "  'states']]"
      ]
     },
     "execution_count": 10,
     "metadata": {},
     "output_type": "execute_result"
    }
   ],
   "source": [
    "processed_hep[0:1]"
   ]
  },
  {
   "cell_type": "code",
   "execution_count": 11,
   "metadata": {},
   "outputs": [],
   "source": [
    "hep_dictionary = gensim.corpora.Dictionary(processed_hep)\n",
    "hep_bow_corpus = [hep_dictionary.doc2bow(text) for text in processed_hep]"
   ]
  },
  {
   "cell_type": "code",
   "execution_count": 12,
   "metadata": {},
   "outputs": [
    {
     "name": "stdout",
     "output_type": "stream",
     "text": [
      "Total number of papers in high energy physics theory (hep-th) :  140500\n",
      "Size of our dictionary :  53081\n"
     ]
    }
   ],
   "source": [
    "print(\"Total number of papers in high energy physics theory (hep-th) : \",len(hep_bow_corpus))\n",
    "print(\"Size of our dictionary : \", len(hep_dictionary))"
   ]
  },
  {
   "cell_type": "code",
   "execution_count": 13,
   "metadata": {},
   "outputs": [],
   "source": [
    "hep_tfidf = gensim.models.TfidfModel(hep_bow_corpus, smartirs='npu')"
   ]
  },
  {
   "cell_type": "code",
   "execution_count": 14,
   "metadata": {},
   "outputs": [],
   "source": [
    "index = gensim.similarities.MatrixSimilarity(hep_tfidf[hep_bow_corpus])"
   ]
  },
  {
   "cell_type": "code",
   "execution_count": 15,
   "metadata": {},
   "outputs": [],
   "source": [
    "def search(string,number):\n",
    "    new_doc = gensim.parsing.preprocessing.preprocess_string(string)\n",
    "    new_vec = hep_dictionary.doc2bow(new_doc)\n",
    "    vec_bow_tfidf = hep_tfidf[new_vec]\n",
    "    sims = index[vec_bow_tfidf]\n",
    "    for (s,i) in zip(sorted(enumerate(sims), key=lambda item: -item[1])[:number],range(1,number+1)):\n",
    "        print( f\"{i}) {datapd_hep_th['title'].iloc[s[0]]} by {datapd_hep_th['authors'].iloc[s[0]]} ({str(s[1])}). Arxiv: {datapd_hep_th['id'].iloc[s[0]]} \\n\")"
   ]
  },
  {
   "cell_type": "code",
   "execution_count": 16,
   "metadata": {},
   "outputs": [
    {
     "name": "stdout",
     "output_type": "stream",
     "text": [
      "1) Islands in Asymptotically Flat 2D Gravity by Thomas Hartman, Edgar Shaghoulian, Andrew Strominger (0.31529188). Arxiv: 2004.13857 \n",
      "\n",
      "2) Pulling Out the Island with Modular Flow by Yiming Chen (0.27871448). Arxiv: 1912.02210 \n",
      "\n",
      "3) Is the island universe model consistent with observations? by Yun-Song Piao (0.25776836). Arxiv: astro-ph/0506072 \n",
      "\n",
      "4) Island in the Presence of Higher Derivative Terms by Mohsen Alishahiha, Amin Faraji Astaneh and Ali Naseh (0.2540105). Arxiv: 2005.08715 \n",
      "\n",
      "5) Pure de Sitter space and the island moving back in time by Watse Sybesma (0.24061042). Arxiv: 2008.07994 \n",
      "\n",
      "6) What the information paradox is {\\it not} by Samir D. Mathur (0.2291399). Arxiv: 1108.0302 \n",
      "\n",
      "7) Galilean Islands in Eternally Inflating Background by Zhi-Guo Liu, Yun-Song Piao (0.21806723). Arxiv: 1301.6833 \n",
      "\n",
      "8) Deep learning and k-means clustering in heterotic string vacua with line\n",
      "  bundles by Hajime Otsuka, Kenta Takemoto (0.21647947). Arxiv: 2003.11880 \n",
      "\n",
      "9) Why Black Hole Information Loss is Paradoxical by David Wallace (0.21450472). Arxiv: 1710.03783 \n",
      "\n",
      "10) The Black Hole Interior in AdS/CFT and the Information Paradox by Kyriakos Papadodimas and Suvrat Raju (0.2112778). Arxiv: 1310.6334 \n",
      "\n",
      "11) Notes on islands in asymptotically flat 2d dilaton black holes by Takanori Anegawa, Norihiro Iizuka (0.20861244). Arxiv: 2004.01601 \n",
      "\n",
      "12) Islands in cosmology by Thomas Hartman, Yikun Jiang, Edgar Shaghoulian (0.20295753). Arxiv: 2008.01022 \n",
      "\n",
      "13) Branches of N=1 Vacua and Argyres-Douglas Points by Tohru Eguchi and Yuji Sugawara (0.19720538). Arxiv: hep-th/0305050 \n",
      "\n",
      "14) A quantum circuit interpretation of evaporating black hole geometry by Ying Zhao (0.19689003). Arxiv: 1912.00909 \n",
      "\n",
      "15) Black Hole Information Loss: Some Food for Thoughts by Yen Chin Ong, Dong-han Yeom (0.1960297). Arxiv: 1602.06600 \n",
      "\n"
     ]
    }
   ],
   "source": [
    "search(\"ads cft entanglment islands information paradox\",15)"
   ]
  },
  {
   "cell_type": "code",
   "execution_count": 17,
   "metadata": {},
   "outputs": [],
   "source": [
    "def recommend(string,number):\n",
    "    pointer3=hep_abstracts.loc[(hep_abstracts['id'].str.match(string))]\n",
    "    queryvalue3=pointer3['abstract'].values\n",
    "    processed_query3=preprocess_documents(queryvalue3)\n",
    "    test_bow_corpus3 = [hep_dictionary.doc2bow(text) for text in processed_query3]\n",
    "    vec_test_bow3=hep_tfidf[test_bow_corpus3]\n",
    "    parameters={}\n",
    "    for i in range(len(processed_query3)):\n",
    "        parameters[\"sims\" + str(i)] = index[vec_test_bow3[i]]\n",
    "    values=parameters.values()\n",
    "    for (s,j) in zip(sorted(enumerate(np.sqrt(sum(values))), key=lambda item: -item[1])[:number+len(processed_query3)],range(1,number+1+len(processed_query3))):\n",
    "        if j<=len(processed_query3):\n",
    "            continue\n",
    "        print( f\" \\n {j-len(processed_query3)}) {datapd_hep_th['title'].iloc[s[0]]} by {datapd_hep_th['authors'].iloc[s[0]]} ({str(s[1])}). Arxiv: {datapd_hep_th['id'].iloc[s[0]]}\")"
   ]
  },
  {
   "cell_type": "code",
   "execution_count": 18,
   "metadata": {
    "scrolled": false
   },
   "outputs": [
    {
     "name": "stdout",
     "output_type": "stream",
     "text": [
      " \n",
      " 1) Effective Holographic Theories for low-temperature condensed matter\n",
      "  systems by C. Charmousis (1,2), B. Gout\\'eraux (1), B. S. Kim (3,4), E. Kiritsis\n",
      "  (4) and Rene Meyer (4) ((1) LPT Orsay, Univ. Paris-Sud, (2) LMPT, Univ.\n",
      "  Tours, (3) IESL-FORTH, Greece, (4) CCTP, Univ. of Crete) (0.44348332). Arxiv: 1005.4690\n",
      " \n",
      " 2) Holography of electrically and magnetically charged black branes by Zhenhua Zhou, Jian-Pin Wu and Yi Ling (0.43717888). Arxiv: 1807.07704\n",
      " \n",
      " 3) Solution generating in 5D Einstein-Maxwell-dilaton gravity and\n",
      "  derivation of dipole black ring solutions by Stoytcho S. Yazadjiev (0.4356358). Arxiv: hep-th/0604140\n",
      " \n",
      " 4) Gravitating BIon and BIon black hole with dilaton by Takashi Tamaki, Takashi Torii (0.43228203). Arxiv: gr-qc/0004071\n",
      " \n",
      " 5) Charged Dilatonic Black Holes and their Transport Properties by Blaise Gouteraux, Bom Soo Kim and Rene Meyer (0.42729348). Arxiv: 1102.4440\n",
      " \n",
      " 6) SU(3) Einstein-Yang-Mills-Dilaton Sphalerons and Black Holes by Burkhard Kleihaus, Jutta Kunz and Abha Sood (0.4185503). Arxiv: hep-th/9510069\n",
      " \n",
      " 7) Asymptotically and non-asymptotically flat static black rings in charged\n",
      "  dilaton gravity by Stoytcho S. Yazadjiev (0.41634455). Arxiv: hep-th/0507097\n",
      " \n",
      " 8) Anomalous Dimensions for Boundary Conserved Currents in Holography via\n",
      "  the Caffarelli-Silvestri Mechanism for p-forms by Gabriele La Nave and Philip Phillips (0.40847582). Arxiv: 1708.00863\n",
      " \n",
      " 9) Charged black rings from inverse scattering by Jorge V. Rocha, Maria J. Rodriguez, Oscar Varela and Amitabh Virmani (0.40454915). Arxiv: 1305.4969\n",
      " \n",
      " 10) Holography for Einstein-Maxwell-dilaton theories from generalized\n",
      "  dimensional reduction by Blaise Gout\\'eraux, Jelena Smolic, Milena Smolic, Kostas Skenderis and\n",
      "  Marika Taylor (0.40300778). Arxiv: 1110.2320\n",
      " \n",
      " 11) Global properties of higher-dimensional cosmological spacetimes by Makoto Narita (0.40181103). Arxiv: gr-qc/0403083\n",
      " \n",
      " 12) Drude weight and Mazur-Suzuki bounds in holography by Antonio M. Garc\\'ia-Garc\\'ia and Aurelio Romero-Berm\\'udez (0.39906114). Arxiv: 1512.04401\n",
      " \n",
      " 13) String inspired effective Lagrangian and Inflationary Universe by E. Abdalla, A.C.V.V. de Siqueira (0.39672893). Arxiv: hep-th/9301109\n",
      " \n",
      " 14) Universal Scaling in Fast Quenches Near Lifshitz-Like Fixed Points by M. Reza Mohammadi Mozaffar, Ali Mollabashi (0.39653873). Arxiv: 1906.07017\n",
      " \n",
      " 15) Black-Hole Solutions to Einstein's Equations in the Presence of Matter\n",
      "  and Modifications of Gravitation in Extra Dimensions by B. Gout\\'eraux (0.39538166). Arxiv: 1011.4941\n"
     ]
    }
   ],
   "source": [
    "recommend(\"1005.4690|1107.2116\",15)"
   ]
  },
  {
   "cell_type": "markdown",
   "metadata": {},
   "source": [
    "## Model 2 -- Doc2Vec ##\n",
    "### Again, just focusing on hep-th ###"
   ]
  },
  {
   "cell_type": "code",
   "execution_count": 265,
   "metadata": {},
   "outputs": [],
   "source": [
    "def testmodel(model,phrase,number):\n",
    "    new_doc = gensim.parsing.preprocessing.preprocess_string(phrase)\n",
    "    test_doc_vector = model.infer_vector(new_doc)\n",
    "    sims = model.docvecs.most_similar(positive = [test_doc_vector],topn=number)\n",
    "    for (s,i) in zip(sims,range(1,number+1)):\n",
    "        print( f\"{i}) {datapd_hep_th['title'].iloc[s[0]]} by {datapd_hep_th['authors'].iloc[s[0]]} ({str(s[1])}). Arxiv: {datapd_hep_th['id'].iloc[s[0]]} \\n\") "
   ]
  },
  {
   "cell_type": "code",
   "execution_count": 285,
   "metadata": {},
   "outputs": [],
   "source": [
    "def recommend_doc2vec(model,string,number):\n",
    "    pointer3=hep_abstracts.loc[(hep_abstracts['id'].str.match(string))]\n",
    "    queryvalue3=pointer3['abstract'].values\n",
    "    processed_query3=preprocess_documents(queryvalue3)\n",
    "    temper=[[] for y in range(len(processed_query3))]\n",
    "    for i in range(len(processed_query3)):\n",
    "        temper[i]=model.infer_vector(processed_query3[i])\n",
    "    sims = model.docvecs.most_similar(positive = temper,topn=1+number+len(processed_query3))\n",
    "    for (s,j) in zip(sims,range(1,number+1+len(processed_query3))):\n",
    "        if j<=len(processed_query3):\n",
    "            continue\n",
    "        print( f\"{j-len(processed_query3)}) {datapd_hep_th['title'].iloc[s[0]]} by {datapd_hep_th['authors'].iloc[s[0]]} ({str(s[1])}). Arxiv: {datapd_hep_th['id'].iloc[s[0]]} \\n\") "
   ]
  },
  {
   "cell_type": "code",
   "execution_count": 287,
   "metadata": {},
   "outputs": [],
   "source": [
    "tagged_hep_corpus = [TaggedDocument(d, [i]) for i, d in enumerate(processed_hep)]"
   ]
  },
  {
   "cell_type": "code",
   "execution_count": 302,
   "metadata": {},
   "outputs": [],
   "source": [
    "model_big_bow300_5_10 = Doc2Vec(tagged_hep_corpus, dm=0, vector_size=300, window=5, min_count=1, epochs=10, hs=1)"
   ]
  },
  {
   "cell_type": "code",
   "execution_count": 303,
   "metadata": {},
   "outputs": [
    {
     "name": "stdout",
     "output_type": "stream",
     "text": [
      "1) Conformal Field Theories in Fractional Dimensions by S. El-Showk, M. Paulos, D. Poland, S. Rychkov, D. Simmons-Duffin, A.\n",
      "  Vichi (0.45039984583854675). Arxiv: 1309.5089 \n",
      "\n",
      "2) Analytic bootstrap at large spin by Apratim Kaviraj, Kallol Sen and Aninda Sinha (0.4402136206626892). Arxiv: 1502.01437 \n",
      "\n",
      "3) Bootstrapping the O(N) Vector Models by Filip Kos, David Poland, David Simmons-Duffin (0.4221642017364502). Arxiv: 1307.6856 \n",
      "\n",
      "4) Higher Spin ANEC and the Space of CFTs by David Meltzer (0.42161595821380615). Arxiv: 1811.01913 \n",
      "\n",
      "5) Fast Conformal Bootstrap and Constraints on 3d Gravity by Nima Afkhami-Jeddi, Thomas Hartman, and Amirhossein Tajdini (0.4142104685306549). Arxiv: 1903.06272 \n",
      "\n",
      "6) Correlation functions in scalar field theory at large charge by Guillermo Arias-Tamargo, Diego Rodriguez-Gomez, Jorge G. Russo (0.41208416223526). Arxiv: 1912.01623 \n",
      "\n",
      "7) Conformal Field Theories and Deep Inelastic Scattering by Zohar Komargodski, Manuela Kulaxizi, Andrei Parnachev, and Alexander\n",
      "  Zhiboedov (0.4082166254520416). Arxiv: 1601.05453 \n",
      "\n",
      "8) The $(2,0)$ superconformal bootstrap by Christopher Beem, Madalena Lemos, Leonardo Rastelli, Balt C. van Rees (0.40760937333106995). Arxiv: 1507.05637 \n",
      "\n",
      "9) Anomalous Dimensions in the WF O($N$) Model with a Monodromy Line Defect by Alexander S\\\"oderberg (0.4047406017780304). Arxiv: 1706.02414 \n",
      "\n",
      "10) Solving the 3D Ising Model with the Conformal Bootstrap by Sheer El-Showk, Miguel F. Paulos, David Poland, Slava Rychkov, David\n",
      "  Simmons-Duffin, Alessandro Vichi (0.4043223261833191). Arxiv: 1203.6064 \n",
      "\n"
     ]
    }
   ],
   "source": [
    "recommend_doc2vec(model_big_bow300_5_10,\"1212.4103|1212.3616\",10)"
   ]
  },
  {
   "cell_type": "code",
   "execution_count": 306,
   "metadata": {},
   "outputs": [
    {
     "name": "stdout",
     "output_type": "stream",
     "text": [
      "1) Conformal Field Theory Correlators From sine-Gordon Model on AdS\n",
      "  Spacetime by Sze-Shiang Feng and Mu-Lin Yan (0.49992844462394714). Arxiv: hep-th/0008179 \n",
      "\n",
      "2) An Introduction to Conformal Field Theory by Matthias R Gaberdiel (0.4996393322944641). Arxiv: hep-th/9910156 \n",
      "\n",
      "3) Fermionisation of a Two-Dimensional Free Massless Complex Scalar Field by Laure Gouba (IMSP, CIPMA, Rep. Benin), Gabriel Y.H. Avossevou (IMSP,\n",
      "  CIPMA, Rep. Benin), Jan Govaerts (UCL, Louvain-la-Neuve, Belgium), M. Norbert\n",
      "  Hounkonnou (IMSP, CIPMA, Rep. Benin) (0.49109622836112976). Arxiv: hep-th/0408024 \n",
      "\n",
      "4) Operator Product Expansions and Consistency Relations in a O(N)\n",
      "  Invariant Fermionic CFT for 2<d<4 by Anastasios C. Petkou (0.4671935439109802). Arxiv: hep-th/9602054 \n",
      "\n",
      "5) Logarithmic conformal field theories and AdS correspondence by A.M. Ghezelbash. M. Khorrami, A. Aghamohammadi (0.4661291241645813). Arxiv: hep-th/9807034 \n",
      "\n",
      "6) On the BCFT Description of Holes in the c=1 Matrix Model by Davide Gaiotto, Nissan Itzhaki and Leonardo Rastelli (0.4648439884185791). Arxiv: hep-th/0307221 \n",
      "\n",
      "7) Holography and the Weyl anomaly by Mans Henningson and Kostas Skenderis (0.4618193805217743). Arxiv: hep-th/9812032 \n",
      "\n",
      "8) Conformal boundary conditions and 3D topological field theory by J. Fuchs, I. Runkel and C. Schweigert (0.45082834362983704). Arxiv: hep-th/0110158 \n",
      "\n",
      "9) Tutorial on quasi-sparse eigenvector diagonalization by Dean Lee (UMass Amherst) (0.44957467913627625). Arxiv: hep-th/0007010 \n",
      "\n",
      "10) Irrational Conformal Field Theory on the Sphere and the Torus by M.B. Halpern (0.44942137598991394). Arxiv: hep-th/9411209 \n",
      "\n"
     ]
    }
   ],
   "source": [
    "testmodel(model_big_bow300_5_10,\"sparse conformal field theories holgraphy\",10)"
   ]
  },
  {
   "cell_type": "markdown",
   "metadata": {},
   "source": [
    "## Testing different models ##\n",
    "\n",
    "### We found that CBOW works much better than skipgram for a given windowsize, vector dimensions and epochs. ###"
   ]
  },
  {
   "cell_type": "code",
   "execution_count": 293,
   "metadata": {},
   "outputs": [],
   "source": [
    "model_big_bow200_2_10 = pickle.load(open(\"Modelsfeb3/model_big_bow200_2_10\", 'rb'))\n",
    "model_big_bow200_2_20 = pickle.load(open(\"Modelsfeb3/model_big_bow200_2_20\", 'rb'))\n",
    "model_big_bow200_2_30 = pickle.load(open(\"Modelsfeb3/model_big_bow200_2_30\", 'rb'))\n",
    "model_big_bow200_3_10 = pickle.load(open(\"Modelsfeb3/model_big_bow200_3_10\", 'rb'))\n",
    "model_big_bow200_3_20 = pickle.load(open(\"Modelsfeb3/model_big_bow200_3_20\", 'rb'))\n",
    "model_big_bow200_3_30 = pickle.load(open(\"Modelsfeb3/model_big_bow200_3_30\", 'rb'))\n",
    "model_big_bow200_4_10 = pickle.load(open(\"Modelsfeb3/model_big_bow200_4_10\", 'rb'))\n",
    "model_big_bow200_4_20 = pickle.load(open(\"Modelsfeb3/model_big_bow200_4_20\", 'rb'))"
   ]
  },
  {
   "cell_type": "code",
   "execution_count": 294,
   "metadata": {},
   "outputs": [],
   "source": [
    "model_big_bow300_2_10 = pickle.load(open(\"Modelsfeb3/model_big_bow300_3_10\", 'rb'))\n",
    "model_big_bow300_2_20 = pickle.load(open(\"Modelsfeb3/model_big_bow300_3_20\", 'rb'))\n",
    "model_big_bow300_2_30 = pickle.load(open(\"Modelsfeb3/model_big_bow300_3_30\", 'rb'))\n",
    "model_big_bow300_3_10 = pickle.load(open(\"Modelsfeb3/model_big_bow300_3_10\", 'rb'))\n",
    "model_big_bow300_3_20 = pickle.load(open(\"Modelsfeb3/model_big_bow300_3_20\", 'rb'))\n",
    "model_big_bow300_3_30 = pickle.load(open(\"Modelsfeb3/model_big_bow300_3_30\", 'rb'))\n",
    "model_big_bow300_4_10 = pickle.load(open(\"Modelsfeb3/model_big_bow300_4_10\", 'rb'))\n",
    "model_big_bow300_4_20 = pickle.load(open(\"Modelsfeb3/model_big_bow300_4_20\", 'rb'))\n",
    "model_big_bow300_5_20 = pickle.load(open(\"Modelsfeb3/model_big_bow300_5_20\", 'rb'))\n",
    "model_big_bow300_5_30 = pickle.load(open(\"Modelsfeb3/model_big_bow300_5_30\", 'rb'))"
   ]
  },
  {
   "cell_type": "code",
   "execution_count": 298,
   "metadata": {},
   "outputs": [],
   "source": [
    "model_big_skipgram_200_2_20 = pickle.load(open(\"Modelsfeb3/model_big_skipgram200_2_20\", 'rb'))\n",
    "model_big_skipgram_200_2_30 = pickle.load(open(\"Modelsfeb3/model_big_skipgram200_2_30\", 'rb'))\n",
    "model_big_skipgram_200_2_30 = pickle.load(open(\"Modelsfeb3/model_big_skipgram200_2_30\", 'rb'))\n",
    "model_big_skipgram_200_4_10 = pickle.load(open(\"Modelsfeb3/model_big_skipgram200_4_10\", 'rb'))\n",
    "model_big_skipgram_200_4_20 = pickle.load(open(\"Modelsfeb3/model_big_skipgram200_4_20\", 'rb'))"
   ]
  },
  {
   "cell_type": "code",
   "execution_count": 301,
   "metadata": {},
   "outputs": [],
   "source": [
    "model_big_skipgram_300_2_20 = pickle.load(open(\"Modelsfeb3/model_big_skipgram300_2_20\", 'rb'))\n",
    "model_big_skipgram_300_2_30 = pickle.load(open(\"Modelsfeb3/model_big_skipgram300_2_30\", 'rb'))\n",
    "model_big_skipgram_300_3_20 = pickle.load(open(\"Modelsfeb3/model_big_skipgram300_3_20\", 'rb'))\n",
    "model_big_skipgram_300_3_30 = pickle.load(open(\"Modelsfeb3/model_big_skipgram300_3_30\", 'rb'))\n",
    "model_big_skipgram_300_4_10 = pickle.load(open(\"Modelsfeb3/model_big_skipgram300_4_10\", 'rb'))\n",
    "model_big_skipgram_300_4_20 = pickle.load(open(\"Modelsfeb3/model_big_skipgram300_4_20\", 'rb'))"
   ]
  },
  {
   "cell_type": "markdown",
   "metadata": {},
   "source": [
    "# Our (not definitive, still testing) conclusion -- CBOW with vector dimensions = 300 and window=5, works best #"
   ]
  },
  {
   "cell_type": "code",
   "execution_count": null,
   "metadata": {},
   "outputs": [],
   "source": []
  }
 ],
 "metadata": {
  "kernelspec": {
   "display_name": "Python [conda env:aws_neuron_tensorflow_p36]",
   "language": "python",
   "name": "conda-env-aws_neuron_tensorflow_p36-py"
  },
  "language_info": {
   "codemirror_mode": {
    "name": "ipython",
    "version": 3
   },
   "file_extension": ".py",
   "mimetype": "text/x-python",
   "name": "python",
   "nbconvert_exporter": "python",
   "pygments_lexer": "ipython3",
   "version": "3.6.12"
  }
 },
 "nbformat": 4,
 "nbformat_minor": 4
}
